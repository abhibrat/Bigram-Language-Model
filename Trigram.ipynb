{
  "nbformat": 4,
  "nbformat_minor": 0,
  "metadata": {
    "colab": {
      "provenance": [],
      "gpuType": "V28",
      "authorship_tag": "ABX9TyOjsbUf1/NBVLNpRoJyasyK",
      "include_colab_link": true
    },
    "kernelspec": {
      "name": "python3",
      "display_name": "Python 3"
    },
    "language_info": {
      "name": "python"
    },
    "accelerator": "TPU"
  },
  "cells": [
    {
      "cell_type": "markdown",
      "metadata": {
        "id": "view-in-github",
        "colab_type": "text"
      },
      "source": [
        "<a href=\"https://colab.research.google.com/github/abhibrat/Bigram-Language-Model/blob/main/Trigram.ipynb\" target=\"_parent\"><img src=\"https://colab.research.google.com/assets/colab-badge.svg\" alt=\"Open In Colab\"/></a>"
      ]
    },
    {
      "cell_type": "code",
      "execution_count": 2,
      "metadata": {
        "colab": {
          "base_uri": "https://localhost:8080/"
        },
        "id": "mjiJPsFmAOCW",
        "outputId": "67fe3174-c843-4130-eb02-6501173755d0"
      },
      "outputs": [
        {
          "output_type": "execute_result",
          "data": {
            "text/plain": [
              "['emma', 'olivia', 'ava', 'isabella', 'sophia']"
            ]
          },
          "metadata": {},
          "execution_count": 2
        }
      ],
      "source": [
        "words = open('names.txt', 'r').read().splitlines()\n",
        "words[:5]"
      ]
    },
    {
      "cell_type": "code",
      "source": [
        "chars = list(sorted(set(''.join(words))))\n",
        "stoi = {s:i+1 for i,s in enumerate(chars)}\n",
        "stoi['.']=0\n",
        "itos = {i:s for s,i in stoi.items()}"
      ],
      "metadata": {
        "id": "zHN3w76eAYST"
      },
      "execution_count": 3,
      "outputs": []
    },
    {
      "cell_type": "code",
      "source": [
        "import torch\n",
        "import torch.nn.functional as F"
      ],
      "metadata": {
        "id": "-xEFdFe4EdJn"
      },
      "execution_count": 4,
      "outputs": []
    },
    {
      "cell_type": "code",
      "source": [
        "xs = []\n",
        "ys = []\n",
        "for w in words:\n",
        "  chars = ['.', '.'] + list(w) + ['.', '.']\n",
        "  for ch1, ch2, ch3 in zip(chars, chars[1:], chars[2:]):\n",
        "    idx1 = stoi[ch1]\n",
        "    idx2 = stoi[ch2]\n",
        "    idx = idx1*27 + idx2\n",
        "    # print(ch1,ch2,ch3)\n",
        "    xs.append(idx)\n",
        "    ys.append(stoi[ch3])\n",
        "\n",
        "xs = torch.tensor(xs)\n",
        "ys = torch.tensor(ys)\n",
        "num = xs.nelement()\n",
        "print('Number of elements: ', num)"
      ],
      "metadata": {
        "colab": {
          "base_uri": "https://localhost:8080/"
        },
        "id": "J1l3PyqwA82B",
        "outputId": "e248fff5-f519-4abb-f9f5-e7cddbf7e4cd"
      },
      "execution_count": 5,
      "outputs": [
        {
          "output_type": "stream",
          "name": "stdout",
          "text": [
            "Number of elements:  260179\n"
          ]
        }
      ]
    },
    {
      "cell_type": "code",
      "source": [
        "xs"
      ],
      "metadata": {
        "colab": {
          "base_uri": "https://localhost:8080/"
        },
        "id": "hANGfig-DqJX",
        "outputId": "d43d2a0c-9eb9-4531-e8fd-85ac5fa2e446"
      },
      "execution_count": 9,
      "outputs": [
        {
          "output_type": "execute_result",
          "data": {
            "text/plain": [
              "[0, 5, 148, 364, 352]"
            ]
          },
          "metadata": {},
          "execution_count": 9
        }
      ]
    },
    {
      "cell_type": "code",
      "source": [
        "#Input to the neurons\n",
        "xenc = F.one_hot(xs, num_classes=729).float()\n",
        "\n",
        "# Initialize neurons weights\n",
        "g = torch.Generator().manual_seed(2147483647)\n",
        "W = torch.randn((729, 27), generator=g, requires_grad=True)"
      ],
      "metadata": {
        "id": "k1qYSB6BAbn1"
      },
      "execution_count": 6,
      "outputs": []
    },
    {
      "cell_type": "code",
      "source": [
        "xenc.shape"
      ],
      "metadata": {
        "colab": {
          "base_uri": "https://localhost:8080/"
        },
        "id": "Je5tAKn_FaBz",
        "outputId": "027f1952-2344-4d41-e4aa-ce57754efc6e"
      },
      "execution_count": 21,
      "outputs": [
        {
          "output_type": "execute_result",
          "data": {
            "text/plain": [
              "torch.Size([228146, 729])"
            ]
          },
          "metadata": {},
          "execution_count": 21
        }
      ]
    },
    {
      "cell_type": "code",
      "source": [
        "# Training\n",
        "for i in range(20):\n",
        "  # Forward Pass\n",
        "  logits = xenc @ W\n",
        "  counts = logits.exp()\n",
        "  probs = counts/counts.sum(1, keepdim=True)\n",
        "  loss = -probs[torch.arange(num), ys].log().mean()\n",
        "  # if i%10 == 10:\n",
        "  print(loss.data.item())\n",
        "\n",
        "  # Backprop\n",
        "  W.grad = None\n",
        "  loss.backward()\n",
        "\n",
        "  # Gradient Descent\n",
        "  W.data += -1 * W.grad"
      ],
      "metadata": {
        "colab": {
          "base_uri": "https://localhost:8080/"
        },
        "id": "FvnfOr4bAmc7",
        "outputId": "d18c79d4-0ec9-434e-c09a-4c237d401f7c"
      },
      "execution_count": 32,
      "outputs": [
        {
          "output_type": "stream",
          "name": "stdout",
          "text": [
            "1.9971420764923096\n",
            "1.9971396923065186\n",
            "1.9971373081207275\n",
            "1.9971351623535156\n",
            "1.9971327781677246\n",
            "1.9971305131912231\n",
            "1.9971281290054321\n",
            "1.9971258640289307\n",
            "1.9971234798431396\n",
            "1.997120976448059\n",
            "1.9971188306808472\n",
            "1.9971165657043457\n",
            "1.9971143007278442\n",
            "1.9971117973327637\n",
            "1.9971094131469727\n",
            "1.9971071481704712\n",
            "1.9971047639846802\n",
            "1.9971026182174683\n",
            "1.9971001148223877\n",
            "1.9970979690551758\n"
          ]
        }
      ]
    },
    {
      "cell_type": "code",
      "source": [
        "# Generation after training\n",
        "for i in range(20):\n",
        "  out = []\n",
        "  idx = 0\n",
        "  prev = 0\n",
        "  while True:\n",
        "    new_idx = prev*27 + idx\n",
        "    # print(new_idx)\n",
        "    x_enc = F.one_hot(torch.tensor(new_idx), num_classes=729).float()\n",
        "    # print(f'{x_enc=}')\n",
        "    logits = x_enc @ W\n",
        "    counts = logits.exp()\n",
        "    # print(f'{counts=}')\n",
        "    probs = counts/counts.sum()\n",
        "    prev = idx\n",
        "    idx = torch.multinomial(probs, num_samples=1, replacement=True, generator=g).item()\n",
        "    out.append(itos[idx])\n",
        "    if idx == 0:\n",
        "      break\n",
        "\n",
        "  print(''.join(out))"
      ],
      "metadata": {
        "colab": {
          "base_uri": "https://localhost:8080/"
        },
        "id": "zflmYvCEAo_7",
        "outputId": "1c150586-82bd-4d1b-a862-1df058df2b4c"
      },
      "execution_count": 31,
      "outputs": [
        {
          "output_type": "stream",
          "name": "stdout",
          "text": [
            "an.\n",
            "madlel.\n",
            "badaeealee.\n",
            "talhlsi.\n",
            "milei.\n",
            "faxskylia.\n",
            "atie.\n",
            "kfemerin.\n",
            "natijalee.\n",
            "ayan.\n",
            "rosh.\n",
            "leah.\n",
            "ie.\n",
            "robi.\n",
            "leis.\n",
            "izdvmgjwrqumilla.\n",
            "avidien.\n",
            "aman.\n",
            "telineyangelplsiani.\n",
            "broni.\n"
          ]
        }
      ]
    },
    {
      "cell_type": "code",
      "source": [
        "W[0]"
      ],
      "metadata": {
        "colab": {
          "base_uri": "https://localhost:8080/"
        },
        "id": "suw4wci_Jn07",
        "outputId": "0010dd87-cdaa-4438-d0fa-73421b92aa76"
      },
      "execution_count": 17,
      "outputs": [
        {
          "output_type": "execute_result",
          "data": {
            "text/plain": [
              "tensor([-2.9538,  2.1379,  0.9204,  1.0866,  1.1784,  1.0795, -0.2234,  0.2505,\n",
              "         0.5183,  0.1263,  1.5384,  1.7401,  1.1059,  1.5852,  0.7896, -0.2803,\n",
              "        -0.0117, -1.7465,  1.1477,  1.3740,  0.9219, -1.8625, -0.3273, -0.5309,\n",
              "        -1.3615,  0.0265,  0.5794], grad_fn=<SelectBackward0>)"
            ]
          },
          "metadata": {},
          "execution_count": 17
        }
      ]
    }
  ]
}